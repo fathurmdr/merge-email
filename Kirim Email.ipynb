{
 "cells": [
  {
   "cell_type": "markdown",
   "metadata": {},
   "source": [
    "# Program mengirim email dengan python\n",
    "\n",
    "## Persiapan\n",
    "- Install Python & Jupyter Notebooknya (bagi pemula disarankan install Anaconda saja)\n",
    "- Aktifkan less secure apps di https://myaccount.google.com/lesssecureapps <br>\n",
    "(jangan lupa non-aktifkan setelah kirim email dengan python selesai)\n",
    "- Download codenya di sini: "
   ]
  },
  {
   "cell_type": "code",
   "execution_count": 8,
   "metadata": {},
   "outputs": [],
   "source": [
    "import smtplib\n",
    "from email.mime.multipart import MIMEMultipart\n",
    "from email.mime.text import MIMEText\n",
    "from email.mime.base import MIMEBase\n",
    "from email import encoders"
   ]
  },
  {
   "cell_type": "markdown",
   "metadata": {},
   "source": [
    "## Fungsi mengirim email ke 1 penerima tanpa lampiran file"
   ]
  },
  {
   "cell_type": "code",
   "execution_count": 9,
   "metadata": {},
   "outputs": [],
   "source": [
    "def kirim_email(dari,kepada,judul,isi_pesan,password):\n",
    "\n",
    "    msg = MIMEMultipart()\n",
    "    msg['From'] = dari\n",
    "    msg['To'] = kepada\n",
    "    msg['Subject'] = judul\n",
    "\n",
    "    msg.attach(MIMEText(isi_pesan, 'plain'))\n",
    "    server = smtplib.SMTP('smtp.gmail.com', 587)\n",
    "    server.starttls()\n",
    "    server.login(dari, password)\n",
    "    text = msg.as_string()\n",
    "    server.sendmail(dari, kepada, text)\n",
    "    server.quit()"
   ]
  },
  {
   "cell_type": "markdown",
   "metadata": {},
   "source": [
    "## Fungsi mengirim email ke 1 penerima dengan lampiran file"
   ]
  },
  {
   "cell_type": "code",
   "execution_count": 10,
   "metadata": {},
   "outputs": [],
   "source": [
    "def kirim_email_df(dari,kepada,judul,isi_pesan,fname,fdir,password):\n",
    "\n",
    "    msg = MIMEMultipart()\n",
    "    msg['From'] = dari\n",
    "    msg['To'] = kepada\n",
    "    msg['Subject'] = judul\n",
    "\n",
    "    msg.attach(MIMEText(isi_pesan, 'plain'))\n",
    "    attachment = open(fdir + fname, \"rb\")\n",
    "    part = MIMEBase('application', 'octet-stream')\n",
    "    part.set_payload((attachment).read())\n",
    "    encoders.encode_base64(part)\n",
    "    part.add_header('Content-Disposition', \"attachment; filename= %s\" % fname)\n",
    "    msg.attach(part)\n",
    "    \n",
    "    server = smtplib.SMTP('smtp.gmail.com', 587)\n",
    "    server.starttls()\n",
    "    server.login(dari, password)\n",
    "    text = msg.as_string()\n",
    "    server.sendmail(dari, kepada, text)\n",
    "    server.quit()"
   ]
  },
  {
   "cell_type": "markdown",
   "metadata": {},
   "source": [
    "## Mengirim email ke 1 penerima tanpa lampiran file"
   ]
  },
  {
   "cell_type": "code",
   "execution_count": 6,
   "metadata": {},
   "outputs": [],
   "source": [
    "# buat variabel parameter dari, kepada, judul, isi_pesan, password\n",
    "\n",
    "dari      = \"\"       # email pengirim\n",
    "kepada    = \"\"       # email penerima\n",
    "judul     = \"\"       # judul atau subject\n",
    "isi_pesan = ''''''   # isi pesan atau body\n",
    "password  = \"\"       # isi password\n",
    "\n",
    "# menjalankan fungsi kirim email\n",
    "kirim_email(dari,kepada,judul,isi_pesan,password)"
   ]
  },
  {
   "cell_type": "markdown",
   "metadata": {},
   "source": [
    "## Mengirim email ke 1 penerima dengan lampiran file"
   ]
  },
  {
   "cell_type": "code",
   "execution_count": 10,
   "metadata": {},
   "outputs": [],
   "source": [
    "# buat variabel parameter dari, kepada, judul, isi_pesan, fname, fdir, password\n",
    "\n",
    "# email pengirim\n",
    "dari = \"\"\n",
    "\n",
    "# email penerima\n",
    "kepada = \"\"\n",
    "\n",
    "# judul atau subject\n",
    "judul = \"\"\n",
    "\n",
    "# isi pesan atau body\n",
    "isi_pesan = ''''''\n",
    "\n",
    "# nama file, contoh file MS word \"mydoc.docx\"\n",
    "fname     = \"\"\n",
    "\n",
    "# file directory, contoh D:/my document/file email/\n",
    "fdir = \"\"\n",
    "\n",
    "# isi password\n",
    "password = \"\"\n",
    "\n",
    "# menjalankan fungsi kirim email dengan file\n",
    "kirim_email_df(dari,kepada,judul,isi_pesan,fname,fdir,password)"
   ]
  },
  {
   "cell_type": "markdown",
   "metadata": {},
   "source": [
    "## Persiapan mengirim email kebanyak orang"
   ]
  },
  {
   "cell_type": "code",
   "execution_count": 33,
   "metadata": {},
   "outputs": [
    {
     "data": {
      "text/plain": [
       "'2'"
      ]
     },
     "execution_count": 33,
     "metadata": {},
     "output_type": "execute_result"
    }
   ],
   "source": [
    "import pandas as pd\n",
    "\n",
    "data = pd.read_excel('file directory/file name').astype('str')"
   ]
  },
  {
   "cell_type": "markdown",
   "metadata": {},
   "source": [
    "## Mengirim email ke banyak penerima tanpa lampiran file"
   ]
  },
  {
   "cell_type": "code",
   "execution_count": 35,
   "metadata": {},
   "outputs": [],
   "source": [
    "# email pengirim\n",
    "dari = \"\"\n",
    "\n",
    "# judul atau subject\n",
    "judul = \"\"\n",
    "\n",
    "# isi password\n",
    "password = \"\"\n",
    "\n",
    "for i in range(len(data)):\n",
    "    \n",
    "    kepada    = data[\"email\"][i]\n",
    "    isi_pesan = '''''' + data[\"nama\"][i] + ''''''\n",
    "    \n",
    "    kirim_email(dari,kepada,judul,isi_pesan,password)"
   ]
  },
  {
   "cell_type": "markdown",
   "metadata": {},
   "source": [
    "## Mengirim email ke banyak penerima dengan lampiran file"
   ]
  },
  {
   "cell_type": "code",
   "execution_count": null,
   "metadata": {},
   "outputs": [],
   "source": [
    "# email pengirim\n",
    "dari = \"\"\n",
    "\n",
    "# judul atau subject\n",
    "judul = \"\"\n",
    "\n",
    "# file directory, contoh D:/my document/file email/\n",
    "fdir = \"\"\n",
    "\n",
    "# isi password\n",
    "password = \"\"\n",
    "\n",
    "for i in range(len(data)):\n",
    "    \n",
    "    kepada = data[\"email\"][i]\n",
    "    isi_pesan = '''''' + data[\"nama\"][i] + ''''''\n",
    "    fname     = data[\"file name\"]\n",
    "    \n",
    "    kirim_email_df(dari,kepada,judul,isi_pesan,fname,fdir,password)"
   ]
  }
 ],
 "metadata": {
  "kernelspec": {
   "display_name": "Python 3",
   "language": "python",
   "name": "python3"
  },
  "language_info": {
   "codemirror_mode": {
    "name": "ipython",
    "version": 3
   },
   "file_extension": ".py",
   "mimetype": "text/x-python",
   "name": "python",
   "nbconvert_exporter": "python",
   "pygments_lexer": "ipython3",
   "version": "3.8.1"
  }
 },
 "nbformat": 4,
 "nbformat_minor": 4
}
